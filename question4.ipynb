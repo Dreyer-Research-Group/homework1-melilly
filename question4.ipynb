{
 "cells": [
  {
   "cell_type": "markdown",
   "id": "344ea4d6",
   "metadata": {},
   "source": [
    "# Homework 1, Problem 4: Integration"
   ]
  },
  {
   "cell_type": "code",
   "execution_count": 1,
   "id": "90e1dd43",
   "metadata": {},
   "outputs": [],
   "source": [
    "import numpy as np\n",
    "import matplotlib.pyplot as plt\n",
    "\n",
    "def integrand(x):\n",
    "    return np.square(np.sin(np.sqrt(100*x)))"
   ]
  },
  {
   "cell_type": "code",
   "execution_count": 2,
   "id": "9748fa90",
   "metadata": {},
   "outputs": [
    {
     "data": {
      "image/png": "[encoded data removed]",
      "text/plain": [
       "<Figure size 200x100 with 1 Axes>"
      ]
     },
     "metadata": {},
     "output_type": "display_data"
    }
   ],
   "source": [
    "x = np.linspace(0,1,num=500)\n",
    "y = integrand(x)\n",
    "assert(len(x) == len(y))\n",
    "\n",
    "fig, ax = plt.subplots()\n",
    "fig.set_size_inches(2,1)\n",
    "\n",
    "plt.plot(x, y)\n",
    "plt.xlim(0,1)\n",
    "plt.show()"
   ]
  },
  {
   "cell_type": "code",
   "execution_count": 3,
   "id": "2265d71d",
   "metadata": {},
   "outputs": [],
   "source": [
    "def trapezoid_rule(left, right, integrand):\n",
    "    width = right - left\n",
    "    return (integrand(left) + integrand(right)) * width / 2\n",
    "\n",
    "def half_the_trapezoid_width(a, b, num_subintervals, integrand, error, previous):\n",
    "    width = (b-a)/num_subintervals\n",
    "    lefts = np.linspace(a, b-width, num=num_subintervals)\n",
    "    rights = np.linspace(a+width, b, num=num_subintervals)\n",
    "    sum = np.sum(trapezoid_rule(lefts, rights, integrand))\n",
    "    this_error = abs(previous - sum) / 3\n",
    "    if this_error <= error:\n",
    "        return sum, num_subintervals\n",
    "    return half_the_trapezoid_width(a, b, num_subintervals*2, integrand, error, sum)\n",
    "\n",
    "# method to calculate a definite integral given lower limit a, upper limit b, and integrand integrand\n",
    "def adaptive_trapezoid_rule(a, b, integrand):\n",
    "    first_estimate = trapezoid_rule(a, b, integrand)\n",
    "    error = 1e-6\n",
    "    return half_the_trapezoid_width(a, b, 2, integrand, error, first_estimate)\n"
   ]
  },
  {
   "cell_type": "code",
   "execution_count": 4,
   "id": "1eabd759",
   "metadata": {},
   "outputs": [
    {
     "name": "stdout",
     "output_type": "stream",
     "text": [
      "Adaptive Trapezoid: 0.4558320582782708\n",
      "                    4096 subintervals\n",
      "           Sped-up: 0.4558320582782708\n",
      "                    4096 subintervals\n",
      "                    -3.0030% speedup\n"
     ]
    }
   ],
   "source": [
    "def half_the_trapezoid_width_spedup(a, b, num_subintervals, integrand, error, previous):\n",
    "    width = (b-a)/num_subintervals\n",
    "    midpoints = np.linspace(a+width, b-width, num=int(np.round(num_subintervals/2)))\n",
    "    sum = previous/2 + width*np.sum(integrand(midpoints))\n",
    "    this_error = abs(previous - sum) / 3\n",
    "    if this_error <= error:\n",
    "        return sum, num_subintervals\n",
    "    return half_the_trapezoid_width(a, b, num_subintervals*2, integrand, error, sum)\n",
    "\n",
    "def adaptive_trapezoid_rule_spedup(a, b, integrand):\n",
    "    first_estimate = trapezoid_rule(a, b, integrand)\n",
    "    error = 1e-6\n",
    "    return half_the_trapezoid_width_spedup(a, b, 2, integrand, error, first_estimate)\n",
    "\n",
    "integral, n = adaptive_trapezoid_rule(0,1,integrand)\n",
    "print(f\"Adaptive Trapezoid: {integral}\\n{'':20}{n} subintervals\")\n",
    "integral, n = adaptive_trapezoid_rule_spedup(0,1,integrand)\n",
    "print(f\"{'Sped-up':>18}: {integral}\\n{'':20}{n} subintervals\")\n",
    "\n",
    "from time import time\n",
    "sum = [0,0]\n",
    "functions = [adaptive_trapezoid_rule, adaptive_trapezoid_rule_spedup]\n",
    "for i in range(10000):\n",
    "    for j in range(2):\n",
    "        begin = time()\n",
    "        functions[j](0,1,integrand)\n",
    "        end = time()\n",
    "        sum[j] = end-begin\n",
    "speedup_percent = (sum[1]/sum[0] - 1)*100\n",
    "print(f\"{'':20}{speedup_percent:.4f}% speedup\")"
   ]
  },
  {
   "cell_type": "markdown",
   "id": "32794fc4",
   "metadata": {},
   "source": [
    "The speed-up varies, sometimes +/- 30%, but more often -5 to +5%. There appears to be no appreciable speed-up in this implementation from eq. 5, and in fact it may cause a slow-down."
   ]
  },
  {
   "cell_type": "code",
   "execution_count": 5,
   "id": "8f218f43",
   "metadata": {},
   "outputs": [
    {
     "name": "stdout",
     "output_type": "stream",
     "text": [
      "Romberg Integration: 0.45583253230501364\n",
      "                     128 subintervals\n"
     ]
    }
   ],
   "source": [
    "def trapezoid_subintervals(a, b, num_subintervals, integrand):\n",
    "    width = (b-a)/num_subintervals\n",
    "    lefts = np.linspace(a, b-width, num=num_subintervals)\n",
    "    rights = np.linspace(a+width, b, num=num_subintervals)\n",
    "    return np.sum(trapezoid_rule(lefts, rights, integrand))\n",
    "\n",
    "def romberg_integration(a, b, integrand):\n",
    "    error_max = 1e-6\n",
    "\n",
    "    R_im = [[trapezoid_rule(a, b, integrand)]]\n",
    "    error = 1\n",
    "    i = 0\n",
    "    while(error > error_max):\n",
    "        i += 1\n",
    "        R_im.append([0]*(i+1))\n",
    "        R_im[i][0] = trapezoid_subintervals(a, b, 2**i, integrand)\n",
    "        for m in range(i):\n",
    "            R_im[i][m+1] = R_im[i][m] + (R_im[i][m] - R_im[i-1][m]) / (4**(m+1)-1)\n",
    "        \n",
    "        '''\n",
    "        A note on error.\n",
    "        I originally implemented the error as written in eq. 7:\n",
    "            error = (R_im[i][i] - R_im[i-1][i]) / (4**(i+1)-1)\n",
    "        This formulation means that in order to calculate the error for a\n",
    "        diagonal element, such as R_{2,2}, you would need to know elements\n",
    "        in the upper right triangle, such as R_{1,2}. Clearly, this is not\n",
    "        a correct interpretation, as Romberg integration is a lower left\n",
    "        triangular algorithm. Instead, I have implemented a simple error\n",
    "        measure, that should at least get you into the right order of\n",
    "        magnitude.\n",
    "        '''\n",
    "\n",
    "        error = abs(R_im[i-1][i-1] - R_im[i][i])\n",
    "        \n",
    "    return R_im[i][i], 2**i\n",
    "\n",
    "integral, n = romberg_integration(0,1,integrand)\n",
    "print(f\"Romberg Integration: {integral}\\n{'':21}{n} subintervals\")\n"
   ]
  },
  {
   "cell_type": "markdown",
   "id": "f0016f5b",
   "metadata": {},
   "source": [
    "Romberg integration has 32x fewer subintervals needed in this case than adaptive trapezoid rule."
   ]
  },
  {
   "cell_type": "markdown",
   "id": "cb9ad4d9",
   "metadata": {},
   "source": [
    "For Gauss-Legendre quadrature, first transform the integral's bounds into [-1,1] using $x = 1/2 + z/2$.\n",
    "\n",
    "$$ I = \\int_{-1}^1 \\sin^2\\left( \\sqrt{100(1/2 + z/2)}\\right) \\frac{1}{2}dz$$"
   ]
  },
  {
   "cell_type": "code",
   "execution_count": 6,
   "id": "47f3c0d6",
   "metadata": {},
   "outputs": [
    {
     "name": "stdout",
     "output_type": "stream",
     "text": [
      "Gauss-Legendre: 0.2228041018167432\n",
      "                7 quadrature points\n",
      "                0.2423978094859687\n",
      "                14 quadrature points\n"
     ]
    }
   ],
   "source": [
    "def integrand_z(x):\n",
    "    return np.square(np.sin(np.sqrt(100*(1/2 + x/2))))/2\n",
    "\n",
    "# weights: location\n",
    "# from https://pomax.github.io/bezierinfo/legendre-gauss.html\n",
    "gauss_legendre_7 = {\n",
    "    0.4179591836734694: 0.0000000000000000,\n",
    "    0.3818300505051189: 0.4058451513773972,\n",
    "    0.3818300505051189: -0.4058451513773972,\n",
    "    0.2797053914892766:\t-0.7415311855993945,\n",
    "    0.2797053914892766:\t0.7415311855993945,\n",
    "    0.1294849661688697: -0.9491079123427585,\n",
    "    0.1294849661688697: 0.9491079123427585,\n",
    "}\n",
    "\n",
    "gauss_legendre_14 = {\n",
    "    0.2152638534631578:\t-0.1080549487073437,\n",
    " \t0.2152638534631578:\t0.1080549487073437,\n",
    " \t0.2051984637212956:\t-0.3191123689278897,\n",
    " \t0.2051984637212956:\t0.3191123689278897,\n",
    " \t0.1855383974779378:\t-0.5152486363581541,\n",
    " \t0.1855383974779378:\t0.5152486363581541,\n",
    " \t0.1572031671581935:\t-0.6872929048116855,\n",
    " \t0.1572031671581935:\t0.6872929048116855,\n",
    " \t0.1215185706879032:\t-0.8272013150697650,\n",
    " \t0.1215185706879032:\t0.8272013150697650,\n",
    " \t0.0801580871597602:\t-0.9284348836635735,\n",
    " \t0.0801580871597602:\t0.9284348836635735,\n",
    " \t0.0351194603317519:\t-0.9862838086968123,\n",
    " \t0.0351194603317519:\t0.9862838086968123\n",
    "}\n",
    "\n",
    "def gauss_legendre(points, integrand):\n",
    "    return np.sum([w*integrand(l) for w, l in points.items()])\n",
    "\n",
    "\n",
    "integral = gauss_legendre(gauss_legendre_7, integrand_z)\n",
    "print(f\"Gauss-Legendre: {integral}\\n{'':16}7 quadrature points\")\n",
    "integral = gauss_legendre(gauss_legendre_14, integrand_z)\n",
    "print(f\"{'':16}{integral}\\n{'':16}14 quadrature points\")"
   ]
  },
  {
   "cell_type": "code",
   "execution_count": 7,
   "id": "045370de",
   "metadata": {},
   "outputs": [
    {
     "data": {
      "image/png": "[encoded data removed]",
      "text/plain": [
       "<Figure size 200x100 with 1 Axes>"
      ]
     },
     "metadata": {},
     "output_type": "display_data"
    }
   ],
   "source": [
    "x = np.linspace(-1,1,num=500)\n",
    "y = integrand_z(x)\n",
    "assert(len(x) == len(y))\n",
    "\n",
    "fig, ax = plt.subplots()\n",
    "fig.set_size_inches(2,1)\n",
    "\n",
    "plt.plot(x, y)\n",
    "plt.xlim(-1,1)\n",
    "plt.show()"
   ]
  }
 ],
 "metadata": {
  "kernelspec": {
   "display_name": "Python 3",
   "language": "python",
   "name": "python3"
  },
  "language_info": {
   "codemirror_mode": {
    "name": "ipython",
    "version": 3
   },
   "file_extension": ".py",
   "mimetype": "text/x-python",
   "name": "python",
   "nbconvert_exporter": "python",
   "pygments_lexer": "ipython3",
   "version": "3.13.5"
  }
 },
 "nbformat": 4,
 "nbformat_minor": 5
}
